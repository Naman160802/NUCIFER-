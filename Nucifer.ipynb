{
  "nbformat": 4,
  "nbformat_minor": 0,
  "metadata": {
    "colab": {
      "name": "Nucifer.ipynb",
      "provenance": [],
      "collapsed_sections": []
    },
    "kernelspec": {
      "name": "python3",
      "display_name": "Python 3"
    },
    "language_info": {
      "name": "python"
    }
  },
  "cells": [
    {
      "cell_type": "code",
      "execution_count": null,
      "metadata": {
        "id": "Y4167l8QDsVo"
      },
      "outputs": [],
      "source": [
        "!pip install SpeechRecognition\n",
        "!pip install pyttsx3\n",
        "!pip install comtypes\n",
        "!pip install wikipedia\n"
      ]
    },
    {
      "cell_type": "code",
      "source": [
        "import pyttsx3\n",
        "import speech_recognition as sr\n",
        "import datetime\n",
        "import webbrowser\n",
        "import os\n",
        "import sys\n",
        "import wikipedia"
      ],
      "metadata": {
        "id": "utcICA9JEqFn"
      },
      "execution_count": 3,
      "outputs": []
    },
    {
      "cell_type": "code",
      "source": [
        "engine = pyttsx3.init('dummy')\n",
        "voices = engine.getProperty('voices')\n",
        "#print(voices[1].id)\n",
        "engine.setProperty('voices',voices[1].id)\n",
        "\n",
        "def speak(audio):\n",
        "  engine.say(audio)\n",
        "  engine.runAndWait()\n",
        "\n",
        "def wish_me(datetime):\n",
        "  hour = int(datetime.datetime.now().hour)\n",
        "  if hour>0 and hour<=12:\n",
        "    speak(\"good Morning \")\n",
        "  elif hour>12 and  hour<18:\n",
        "    speak(\"good Afternoon \")\n",
        "  else:\n",
        "    speak(\"good Evening \")\n",
        "\n",
        "speak(\"hey naman, nucifer here please let me know how can i help you?\")\n",
        "\n",
        "def takeinput():\n",
        "  recog = sr.Recognizer()\n",
        "  with sr.Microphone as source:\n",
        "    print(\"listening....\")\n",
        "    recog.pause_threshold = 1\n",
        "    audio = recog.listen(source)\n",
        "  try:\n",
        "    print(\"recognizing....\")\n",
        "    query = recog.recognize_google(audio,language=\"en-in\")\n",
        "    print(\"user's input:\",query)\n",
        "  except Exception as exc:\n",
        "    print(exc)\n",
        "    speak(\"sorry, Can you please repeat...\")\n",
        "    return \"none\"\n",
        "  return query\n",
        "\n",
        "if __name__ == '_main_':\n",
        "  wish_me(datetime)\n",
        "\n",
        "  if 1:\n",
        "    query = takeinput().lower()\n",
        "\n",
        "    if 'wikipedia' in query:\n",
        "      speak(\"okay.... please wait for a while\")\n",
        "      query = query.replace(\"wikipedia\",\"\")\n",
        "      output = wikipedia.summary(query,sentences=2)\n",
        "      speak = (\"according to the wikipedia\")\n",
        "      speak(output)\n",
        "    \n",
        "    elif 'open github' in query:\n",
        "      webbrowser.open(\"github.com\")\n",
        "    \n",
        "    elif 'open netflix' in query:\n",
        "      webbrowser.open(\"netflix.com\")\n",
        "    \n",
        "    elif 'open youtube' in query:\n",
        "      webbrowser.open(\"youtube.com\")\n",
        "    \n",
        "    elif 'open google' in query:\n",
        "      webbrowser.open(\"google.com\")\n",
        "    \n",
        "    elif 'what is the time' in query:\n",
        "      speak(\"the time is...\", datetime.time)\n",
        "    \n",
        "    elif 'what is the date today' in query:\n",
        "      speak(\"today's day is....\", datetime.date)\n",
        "    \n",
        "    elif 'open notepad' in query:\n",
        "      note_path = 'C:\\Windows\\notepad.exe'\n",
        "      os.startfile(note_path)\n",
        "\n",
        "    elif 'open vpn' in query:\n",
        "      vpn_path = 'C:\\Program Files (x86)\\Proton Technologies\\ProtonVPN\\ProtonVPN.exe'  \n",
        "    \n",
        "    elif 'no thanks' in query:\n",
        "      speak(\"thank you naman for using me. have a great day\")\n",
        "\n",
        "SystemExit\n"
      ],
      "metadata": {
        "id": "6HQsGq4jvpp4"
      },
      "execution_count": null,
      "outputs": []
    }
  ]
}